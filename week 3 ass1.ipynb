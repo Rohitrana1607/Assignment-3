{
 "cells": [
  {
   "cell_type": "code",
   "execution_count": 1,
   "id": "d8e28bfd-4e9d-4434-938c-7d0221ffbc8b",
   "metadata": {},
   "outputs": [
    {
     "data": {
      "text/plain": [
       "'Q1. Which keyword is used to create a function? Create a function to return a list of odd numbers in the\\nrange of 1 to 25.'"
      ]
     },
     "execution_count": 1,
     "metadata": {},
     "output_type": "execute_result"
    }
   ],
   "source": [
    "\"\"\"Q1. Which keyword is used to create a function? Create a function to return a list of odd numbers in the\n",
    "range of 1 to 25.\"\"\""
   ]
  },
  {
   "cell_type": "code",
   "execution_count": 78,
   "id": "5185ed8f-4b6c-47c2-a559-1b0a2ee19e52",
   "metadata": {},
   "outputs": [],
   "source": [
    "#def is used to create a function"
   ]
  },
  {
   "cell_type": "code",
   "execution_count": 17,
   "id": "8291e6ba-b10e-40af-9ef9-acce42b8e44d",
   "metadata": {},
   "outputs": [],
   "source": [
    "w= range(1,25)"
   ]
  },
  {
   "cell_type": "code",
   "execution_count": 19,
   "id": "753a06b9-0f54-43fb-aeb5-0bf3053d3f73",
   "metadata": {},
   "outputs": [],
   "source": [
    "w1 = []\n",
    "for i in w:\n",
    "    if int (i) % 2 !=0:\n",
    "        w1.append(i)"
   ]
  },
  {
   "cell_type": "code",
   "execution_count": 20,
   "id": "e3f8206b-268f-41d0-9c5c-4c68176b5d1b",
   "metadata": {},
   "outputs": [
    {
     "data": {
      "text/plain": [
       "[1, 3, 5, 7, 9, 11, 13, 15, 17, 19, 21, 23]"
      ]
     },
     "execution_count": 20,
     "metadata": {},
     "output_type": "execute_result"
    }
   ],
   "source": [
    "w1"
   ]
  },
  {
   "cell_type": "code",
   "execution_count": 27,
   "id": "e3aa86f5-6821-4266-a350-86b65ce8b1ce",
   "metadata": {},
   "outputs": [],
   "source": [
    "#final result as above formulae made to apply in def test\n",
    "\n",
    "def test_oddnumbers(w):\n",
    "    w1 =[]\n",
    "    for i in w:\n",
    "        if int(i)%2 != 0:\n",
    "            w1.append(i)\n",
    "    return w1"
   ]
  },
  {
   "cell_type": "code",
   "execution_count": 26,
   "id": "d5e48406-de45-4198-bfaa-45c391876d16",
   "metadata": {},
   "outputs": [
    {
     "data": {
      "text/plain": [
       "[1, 3, 5, 7, 9, 11, 13, 15, 17, 19, 21, 23]"
      ]
     },
     "execution_count": 26,
     "metadata": {},
     "output_type": "execute_result"
    }
   ],
   "source": [
    "test_oddnumbers(w)"
   ]
  },
  {
   "cell_type": "code",
   "execution_count": 28,
   "id": "21378495-d487-499a-9844-badf3e1a928c",
   "metadata": {},
   "outputs": [
    {
     "data": {
      "text/plain": [
       "'Why *args and **kwargs is used in some functions? Create a function each for *args and **kwargs\\nto demonstrate their use.'"
      ]
     },
     "execution_count": 28,
     "metadata": {},
     "output_type": "execute_result"
    }
   ],
   "source": [
    "\"\"\"Why *args and **kwargs is used in some functions? Create a function each for *args and **kwargs\n",
    "to demonstrate their use.\"\"\""
   ]
  },
  {
   "cell_type": "code",
   "execution_count": 29,
   "id": "28bd9bfe-dfdd-41f2-91a6-f9ec09b7e97c",
   "metadata": {},
   "outputs": [
    {
     "data": {
      "text/plain": [
       "'Args are known as asterick(*) that are used to pass n number of arguments in function as \\nsome time we can not give or add n number of combinations to save this we use arg as what \\nwe add we will get\\n\\nKwargs are keywords (**) arguments or double asterick used to pass n number of keyword argument\\n as every time we can  not define all combinations thats why we use it'"
      ]
     },
     "execution_count": 29,
     "metadata": {},
     "output_type": "execute_result"
    }
   ],
   "source": [
    "\"\"\"Args are known as asterick(*) that are used to pass n number of arguments in function as \n",
    "some time we can not give or add n number of combinations to save this we use arg as what \n",
    "we add we will get\n",
    "\n",
    "Kwargs are keywords (**) arguments or double asterick used to pass n number of keyword argument\n",
    " as every time we can  not define all combinations thats why we use it\"\"\""
   ]
  },
  {
   "cell_type": "code",
   "execution_count": 43,
   "id": "cf5fcf54-53b1-4f64-afb1-9c53c3d26b92",
   "metadata": {},
   "outputs": [
    {
     "data": {
      "text/plain": [
       "(1, 2, 3, 4, 5, 6, 7, 3, 5, 3)"
      ]
     },
     "execution_count": 43,
     "metadata": {},
     "output_type": "execute_result"
    }
   ],
   "source": [
    "def test5(*args):\n",
    "    return args\n",
    "\n",
    "test5(1,2,3,4,5,6,7,3,5,3)\n",
    "\n"
   ]
  },
  {
   "cell_type": "code",
   "execution_count": 41,
   "id": "d671a2ed-1c7b-4805-93ce-9712772ad4ae",
   "metadata": {},
   "outputs": [
    {
     "data": {
      "text/plain": [
       "{'c': 45, 'f': 67, 'p': 34, 'm': 45}"
      ]
     },
     "execution_count": 41,
     "metadata": {},
     "output_type": "execute_result"
    }
   ],
   "source": [
    "def test6(**kwargs):\n",
    "    return kwargs\n",
    "\n",
    "test6( c =45, f =67, p =34, m =45)"
   ]
  },
  {
   "cell_type": "code",
   "execution_count": 44,
   "id": "0cf76bda-60a9-4b8e-976e-681e815eae91",
   "metadata": {},
   "outputs": [],
   "source": [
    "# as we can see we have passed muliple data without any issue that's why we prefer *args and **kwargs if data \n",
    "#is more and we want to use them without giving that much combinations\n"
   ]
  },
  {
   "cell_type": "code",
   "execution_count": 45,
   "id": "5d70bb3e-b186-4eac-bc00-e55984133345",
   "metadata": {},
   "outputs": [
    {
     "data": {
      "text/plain": [
       "'Q3. What is an iterator in python? Name the method used to initialise the iterator object and the method\\nused for iteration. Use these methods to print the first five elements of the given list [2, 4, 6, 8, 10, 12, 14,\\n16, 18, 20].'"
      ]
     },
     "execution_count": 45,
     "metadata": {},
     "output_type": "execute_result"
    }
   ],
   "source": [
    "\"\"\"Q3. What is an iterator in python? Name the method used to initialise the iterator object and the method\n",
    "used for iteration. Use these methods to print the first five elements of the given list [2, 4, 6, 8, 10, 12, 14,\n",
    "16, 18, 20].\"\"\""
   ]
  },
  {
   "cell_type": "code",
   "execution_count": 47,
   "id": "23bef1dc-fbc3-47a0-b108-1d8fc0ef94fb",
   "metadata": {},
   "outputs": [],
   "source": [
    "#An Iterator is an object that can be used to loop through collections It is called an \"iterator\" because \"\n",
    "#iterating\" is the technical term for looping."
   ]
  },
  {
   "cell_type": "code",
   "execution_count": 49,
   "id": "fffeb5fa-bfe6-43d2-80f1-d175b9bb9143",
   "metadata": {},
   "outputs": [],
   "source": [
    "#method used to initialize iterator object is iter()\n",
    "\n",
    "#And method used for iteration is next() method for iteration"
   ]
  },
  {
   "cell_type": "code",
   "execution_count": 59,
   "id": "9c04ac7a-7cc1-4555-a6b8-63488b1be1c7",
   "metadata": {},
   "outputs": [],
   "source": [
    "b= [2, 4, 6, 8, 10, 12, 14,\"/n16\", 18, 20]\n",
    "\n",
    "# kept \"n16\" under double coma as it is string as before that it was giving error"
   ]
  },
  {
   "cell_type": "code",
   "execution_count": 60,
   "id": "3d43a7c1-2249-459a-b93e-6c16121b5020",
   "metadata": {},
   "outputs": [],
   "source": [
    "b1 = iter(b)"
   ]
  },
  {
   "cell_type": "code",
   "execution_count": 63,
   "id": "1dbe1202-d5be-4eaf-b347-dfce3f889581",
   "metadata": {},
   "outputs": [
    {
     "data": {
      "text/plain": [
       "2"
      ]
     },
     "execution_count": 63,
     "metadata": {},
     "output_type": "execute_result"
    }
   ],
   "source": [
    "next (b1)"
   ]
  },
  {
   "cell_type": "code",
   "execution_count": 64,
   "id": "20d0d67f-2bb4-48e3-8ab7-54869ae6a92f",
   "metadata": {},
   "outputs": [
    {
     "data": {
      "text/plain": [
       "4"
      ]
     },
     "execution_count": 64,
     "metadata": {},
     "output_type": "execute_result"
    }
   ],
   "source": [
    "next(b1)"
   ]
  },
  {
   "cell_type": "code",
   "execution_count": 65,
   "id": "54e33c56-7e8a-45b9-bb59-1fccf9eaed55",
   "metadata": {},
   "outputs": [
    {
     "data": {
      "text/plain": [
       "6"
      ]
     },
     "execution_count": 65,
     "metadata": {},
     "output_type": "execute_result"
    }
   ],
   "source": [
    "next(b1)"
   ]
  },
  {
   "cell_type": "code",
   "execution_count": 66,
   "id": "fcaa9eb2-7cab-4bff-9d0e-1c6bb8652b95",
   "metadata": {},
   "outputs": [
    {
     "data": {
      "text/plain": [
       "8"
      ]
     },
     "execution_count": 66,
     "metadata": {},
     "output_type": "execute_result"
    }
   ],
   "source": [
    "next(b1)"
   ]
  },
  {
   "cell_type": "code",
   "execution_count": 67,
   "id": "aed0906c-5f91-4a01-bb82-2e4d7a40d062",
   "metadata": {},
   "outputs": [
    {
     "data": {
      "text/plain": [
       "10"
      ]
     },
     "execution_count": 67,
     "metadata": {},
     "output_type": "execute_result"
    }
   ],
   "source": [
    "next(b1)"
   ]
  },
  {
   "cell_type": "code",
   "execution_count": 68,
   "id": "30bc7846-1d9c-4142-8f85-72af9ffa46ac",
   "metadata": {},
   "outputs": [
    {
     "data": {
      "text/plain": [
       "'Q4. What is a generator function in python? Why yield keyword is used? Give an example of a generator\\nfunction.'"
      ]
     },
     "execution_count": 68,
     "metadata": {},
     "output_type": "execute_result"
    }
   ],
   "source": [
    "\"\"\"Q4. What is a generator function in python? Why yield keyword is used? Give an example of a generator\n",
    "function.\"\"\""
   ]
  },
  {
   "cell_type": "code",
   "execution_count": 7,
   "id": "8b1c6175-b5ed-4b20-8e4e-429ae429787e",
   "metadata": {},
   "outputs": [
    {
     "name": "stdout",
     "output_type": "stream",
     "text": [
      "1\n",
      "2\n",
      "3\n",
      "5\n",
      "8\n",
      "13\n",
      "21\n",
      "34\n",
      "55\n",
      "89\n"
     ]
    }
   ],
   "source": [
    "#generator function  generates function continously as it does not give result one time \n",
    "#by storing all data.\n",
    "\n",
    "#yield keyword is used in genearator function and if there is yield function then this \n",
    "#function automatically become generator function\n",
    "\n",
    "def test_genr(n):\n",
    "    a,b = 1,2\n",
    "    for i in range(n):\n",
    "        yield a\n",
    "        a,b = b, a+b\n",
    "for i in test_genr(10):\n",
    "    print(i)"
   ]
  },
  {
   "cell_type": "code",
   "execution_count": 8,
   "id": "fc921aa6-8748-4a8c-9846-568f4eb20f3f",
   "metadata": {},
   "outputs": [
    {
     "data": {
      "text/plain": [
       "'Q5. Create a generator function for prime numbers less than 1000. Use the next() method to print the\\nfirst 20 prime numbers.'"
      ]
     },
     "execution_count": 8,
     "metadata": {},
     "output_type": "execute_result"
    }
   ],
   "source": [
    "\"\"\"Q5. Create a generator function for prime numbers less than 1000. Use the next() method to print the\n",
    "first 20 prime numbers.\"\"\""
   ]
  },
  {
   "cell_type": "code",
   "execution_count": 76,
   "id": "6c43855f-7095-47ca-a00c-dc462aafdf71",
   "metadata": {},
   "outputs": [],
   "source": [
    "m = range(1000)\n",
    "    "
   ]
  },
  {
   "cell_type": "code",
   "execution_count": 77,
   "id": "34495861-76bb-4d84-8868-0567f500f75b",
   "metadata": {},
   "outputs": [
    {
     "data": {
      "text/plain": [
       "range"
      ]
     },
     "execution_count": 77,
     "metadata": {},
     "output_type": "execute_result"
    }
   ],
   "source": [
    "type(m)"
   ]
  },
  {
   "cell_type": "code",
   "execution_count": 95,
   "id": "307ea02c-19bf-4c60-bc53-f99bfd8e7195",
   "metadata": {},
   "outputs": [],
   "source": [
    "def prime_numbers():\n",
    "    yield 2\n",
    "    primes = [2]\n",
    "    a = 3\n",
    "    while a < 1000:\n",
    "        prime = True\n",
    "        for prime in primes:\n",
    "            if a % prime == 0:\n",
    "                prime = False\n",
    "                break\n",
    "        if prime:\n",
    "            primes.append(a)\n",
    "            yield a\n",
    "        a += 2\n",
    "       \n",
    "            \n",
    "    \n",
    "\n",
    "    "
   ]
  },
  {
   "cell_type": "code",
   "execution_count": 96,
   "id": "8a46ab27-f4b4-4750-bc6b-6ea8a1f9ddd0",
   "metadata": {},
   "outputs": [],
   "source": [
    "\n",
    "#Q6. Write a python program to print the first 10 Fibonacci numbers using a while loop."
   ]
  },
  {
   "cell_type": "code",
   "execution_count": 102,
   "id": "a3b2cadc-74f2-45b6-97ef-04e6d3adb6a8",
   "metadata": {},
   "outputs": [
    {
     "name": "stdout",
     "output_type": "stream",
     "text": [
      "1\n",
      "2\n",
      "3\n",
      "5\n",
      "8\n",
      "13\n",
      "21\n",
      "34\n",
      "55\n",
      "89\n"
     ]
    }
   ],
   "source": [
    "def test_fib(n):\n",
    "    a,b =1,2\n",
    "    for i in range(n):\n",
    "        yield a\n",
    "        a,b = b, a+b\n",
    "for i in test_fib(10):\n",
    "    print(i)"
   ]
  },
  {
   "cell_type": "code",
   "execution_count": 103,
   "id": "27f661e3-45b8-4161-9bd8-feaa06c5fb80",
   "metadata": {},
   "outputs": [
    {
     "data": {
      "text/plain": [
       "\"Q7. Write a List Comprehension to iterate through the given string: ‘pwskills’.\\nExpected output: ['p', 'w', 's', 'k', 'i', 'l', 'l', 's']\""
      ]
     },
     "execution_count": 103,
     "metadata": {},
     "output_type": "execute_result"
    }
   ],
   "source": [
    "\"\"\"Q7. Write a List Comprehension to iterate through the given string: ‘pwskills’.\n",
    "Expected output: ['p', 'w', 's', 'k', 'i', 'l', 'l', 's']\"\"\""
   ]
  },
  {
   "cell_type": "code",
   "execution_count": 171,
   "id": "d702a849-9e4d-43f3-8af3-796d39d90731",
   "metadata": {},
   "outputs": [
    {
     "name": "stdout",
     "output_type": "stream",
     "text": [
      "['p', 'w', 's', 'k', 'i', 'l', 'l', 's']\n"
     ]
    }
   ],
   "source": [
    "\n",
    "string = 'pwskills'\n",
    "characters = [char for char in string]\n",
    "print(characters)\n"
   ]
  },
  {
   "cell_type": "code",
   "execution_count": null,
   "id": "646201b7-6761-4dc0-8035-82ec6fc826af",
   "metadata": {},
   "outputs": [],
   "source": []
  },
  {
   "cell_type": "code",
   "execution_count": 167,
   "id": "2718d936-66ca-4e7e-b9fc-b78db8e8f18b",
   "metadata": {},
   "outputs": [
    {
     "data": {
      "text/plain": [
       "[]"
      ]
     },
     "execution_count": 167,
     "metadata": {},
     "output_type": "execute_result"
    }
   ],
   "source": [
    "h1"
   ]
  },
  {
   "cell_type": "code",
   "execution_count": null,
   "id": "fd0ab934-cca0-4fb6-ad54-11dd83f9f2c2",
   "metadata": {},
   "outputs": [],
   "source": []
  },
  {
   "cell_type": "code",
   "execution_count": null,
   "id": "f4d8821c-0b89-4e35-9fcf-0ba4b19af90e",
   "metadata": {},
   "outputs": [],
   "source": []
  },
  {
   "cell_type": "code",
   "execution_count": null,
   "id": "ba1fea05-a56e-4a5c-8a0c-c328dc86eed1",
   "metadata": {},
   "outputs": [],
   "source": []
  }
 ],
 "metadata": {
  "kernelspec": {
   "display_name": "Python 3 (ipykernel)",
   "language": "python",
   "name": "python3"
  },
  "language_info": {
   "codemirror_mode": {
    "name": "ipython",
    "version": 3
   },
   "file_extension": ".py",
   "mimetype": "text/x-python",
   "name": "python",
   "nbconvert_exporter": "python",
   "pygments_lexer": "ipython3",
   "version": "3.10.8"
  }
 },
 "nbformat": 4,
 "nbformat_minor": 5
}
